{
 "cells": [
  {
   "cell_type": "markdown",
   "metadata": {},
   "source": [
    "# merge_data.ipynb\n",
    "\n",
    "This file is responsible for taking all of the separate game csvs and putting them into one so we can have one trained model"
   ]
  },
  {
   "cell_type": "code",
   "execution_count": 9,
   "metadata": {},
   "outputs": [
    {
     "name": "stdout",
     "output_type": "stream",
     "text": [
      "       Game_ID        Date  Playercount  Initialprice  Finalprice  Discount\n",
      "0       614570  2019-04-07          103         29.99       29.99         0\n",
      "1       614570  2019-04-08           71         29.99       29.99         0\n",
      "2       614570  2019-04-09           67         29.99       29.99         0\n",
      "3       614570  2019-04-10           58         29.99       29.99         0\n",
      "4       614570  2019-04-11           55         29.99       29.99         0\n",
      "...        ...         ...          ...           ...         ...       ...\n",
      "597477  228280  2020-08-08          622         19.99       19.99         0\n",
      "597478  228280  2020-08-09          688         19.99       19.99         0\n",
      "597479  228280  2020-08-10          558         19.99       19.99         0\n",
      "597480  228280  2020-08-11          529         19.99       19.99         0\n",
      "597481  228280  2020-08-12          520         19.99       19.99         0\n",
      "\n",
      "[597482 rows x 6 columns]\n"
     ]
    }
   ],
   "source": [
    "import pandas as pd\n",
    "import os\n",
    "\n",
    "folder = \"data/CombinedPricePlayerCountHistory\"\n",
    "game_dfs = []\n",
    "\n",
    "for filename in os.listdir(folder):\n",
    "    if filename == \"readme.md\":\n",
    "        continue\n",
    "\n",
    "    # Construct filenames\n",
    "    fullpath = os.path.join(folder, filename)\n",
    "    appId, garbage_collector = os.path.splitext(filename)\n",
    "\n",
    "    # Create data frame for each csv\n",
    "    df = pd.read_csv(fullpath)\n",
    "    df['Game_ID'] = appId\n",
    "    cols = ['Game_ID'] + [col for col in df if col != 'Game_ID']\n",
    "    df = df[cols]\n",
    "    game_dfs.append(df)\n",
    "\n",
    "# Combine them into one csv we can use to train\n",
    "combined_df = pd.concat(game_dfs, ignore_index=True)\n",
    "\n",
    "print(combined_df)"
   ]
  }
 ],
 "metadata": {
  "kernelspec": {
   "display_name": "cs425-env",
   "language": "python",
   "name": "python3"
  },
  "language_info": {
   "codemirror_mode": {
    "name": "ipython",
    "version": 3
   },
   "file_extension": ".py",
   "mimetype": "text/x-python",
   "name": "python",
   "nbconvert_exporter": "python",
   "pygments_lexer": "ipython3",
   "version": "3.10.12"
  }
 },
 "nbformat": 4,
 "nbformat_minor": 2
}
