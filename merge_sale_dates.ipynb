{
 "cells": [
  {
   "cell_type": "markdown",
   "metadata": {},
   "source": [
    "# merge_sale_dates.ipynb \n",
    "\n",
    "Since our model may just be guessing days after a sale has already started, we will only pick the first day of a sale and set all other subsequent days to no sale for that game\n",
    "\n",
    "I will go through each appId and for each game, go through every day in order and find a sale. Keep that sale but for every consecutive day the sale is active, mark it as not on sale and then continue until a new sale is found."
   ]
  },
  {
   "cell_type": "code",
   "execution_count": 16,
   "metadata": {},
   "outputs": [],
   "source": [
    "import pandas as pd\n",
    "import numpy as np\n",
    "import matplotlib.pyplot as plt\n",
    "\n",
    "full_df = pd.read_csv(\"all_data.csv\")\n",
    "full_df = full_df.sort_values(by=['appid','Date'])\n",
    "\n",
    "for index, row in full_df.iterrows():\n",
    "    if row['Initialprice'] != row['Finalprice']:\n",
    "        full_df.loc[index, 'onSale'] = 1\n",
    "        full_df.loc[index, 'Discount'] = round(1 - (row['Finalprice']/row['Initialprice']),3)\n",
    "\n",
    "full_df.to_csv('all_data.csv',index=False)"
   ]
  },
  {
   "cell_type": "markdown",
   "metadata": {},
   "source": [
    "This code will keep track of when a sale starts and update any days _after_ it starts to not include a sale. Essentially we are just taking the day the sale starts. We also want to make sure that we ensure its the same game since one game could have data that ends with a sale and the next one in the df could start with a sale, we do not want that to be considered the same sale."
   ]
  },
  {
   "cell_type": "code",
   "execution_count": 17,
   "metadata": {},
   "outputs": [],
   "source": [
    "def checkForSale(row, foundSale, full_df, index):\n",
    "    if row['onSale'] == 1 and foundSale == False:\n",
    "        foundSale = True\n",
    "    elif row['onSale'] == 1 and foundSale == True:\n",
    "        full_df.loc[index, 'onSale'] = 0\n",
    "        full_df.loc[index, 'Discount'] = 0\n",
    "        full_df.loc[index, 'Finalprice'] = row['Initialprice']\n",
    "    elif row['onSale'] == 0:\n",
    "        foundSale = False\n",
    "\n",
    "    return foundSale, full_df\n",
    "\n",
    "foundSale = False\n",
    "previousId = 10\n",
    "\n",
    "for index, row in full_df.iterrows():\n",
    "    if row['appid'] == previousId:\n",
    "        foundSale, full_df = checkForSale(row, foundSale, full_df, index)\n",
    "    else:\n",
    "        previousId = row['appid']\n",
    "        foundSale = False\n",
    "        foundSale, full_df = checkForSale(row, foundSale, full_df, index)"
   ]
  },
  {
   "cell_type": "code",
   "execution_count": null,
   "metadata": {},
   "outputs": [],
   "source": [
    "full_df.to_csv('all_data_sale_start_only.csv',index=False)"
   ]
  }
 ],
 "metadata": {
  "kernelspec": {
   "display_name": "cs425-env",
   "language": "python",
   "name": "python3"
  },
  "language_info": {
   "codemirror_mode": {
    "name": "ipython",
    "version": 3
   },
   "file_extension": ".py",
   "mimetype": "text/x-python",
   "name": "python",
   "nbconvert_exporter": "python",
   "pygments_lexer": "ipython3",
   "version": "3.10.12"
  }
 },
 "nbformat": 4,
 "nbformat_minor": 2
}
