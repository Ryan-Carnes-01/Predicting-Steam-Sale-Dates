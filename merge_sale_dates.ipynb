{
 "cells": [
  {
   "cell_type": "markdown",
   "metadata": {},
   "source": [
    "# merge_sale_dates.ipynb \n",
    "\n",
    "Since our model may just be guessing days after a sale has already started, we will only pick the first day of a sale and set all other subsequent days to no sale for that game\n",
    "\n",
    "I will go through each appId and for each game, go through every day in order and find a sale. Keep that sale but for every consecutive day the sale is active, mark it as not on sale and then continue until a new sale is found."
   ]
  },
  {
   "cell_type": "code",
   "execution_count": 16,
   "metadata": {},
   "outputs": [],
   "source": [
    "import pandas as pd\n",
    "import numpy as np\n",
    "import matplotlib.pyplot as plt\n",
    "\n",
    "full_df = pd.read_csv(\"all_data.csv\")\n",
    "full_df = full_df.sort_values(by=['appid','Date'])\n",
    "\n",
    "for index, row in full_df.iterrows():\n",
    "    if row['Initialprice'] != row['Finalprice']:\n",
    "        full_df.loc[index, 'onSale'] = 1\n",
    "        full_df.loc[index, 'Discount'] = round(1 - (row['Finalprice']/row['Initialprice']),3)\n",
    "\n",
    "full_df.to_csv('all_data.csv',index=False)"
   ]
  },
  {
   "cell_type": "code",
   "execution_count": null,
   "metadata": {},
   "outputs": [],
   "source": []
  }
 ],
 "metadata": {
  "kernelspec": {
   "display_name": "cs425-env",
   "language": "python",
   "name": "python3"
  },
  "language_info": {
   "codemirror_mode": {
    "name": "ipython",
    "version": 3
   },
   "file_extension": ".py",
   "mimetype": "text/x-python",
   "name": "python",
   "nbconvert_exporter": "python",
   "pygments_lexer": "ipython3",
   "version": "3.10.12"
  }
 },
 "nbformat": 4,
 "nbformat_minor": 2
}
